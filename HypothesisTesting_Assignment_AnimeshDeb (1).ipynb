{
 "cells": [
  {
   "cell_type": "markdown",
   "id": "22d0992a",
   "metadata": {},
   "source": [
    "### Hypothesis testing"
   ]
  },
  {
   "cell_type": "code",
   "execution_count": 1,
   "id": "914de645",
   "metadata": {},
   "outputs": [],
   "source": [
    "import pandas as pd\n",
    "import scipy\n",
    "import numpy as np\n",
    "from scipy import stats"
   ]
  },
  {
   "cell_type": "markdown",
   "id": "e3d5da45",
   "metadata": {},
   "source": [
    "1. Hypothesis Formulation:\n",
    "- A company claims that their new energy drink increases focus and alertness.\n",
    "Formulate the null and alternative hypotheses for testing this claim."
   ]
  },
  {
   "cell_type": "markdown",
   "id": "beb5744f",
   "metadata": {},
   "source": [
    "### Below are the Null and Alternate hypothesis\n",
    "\n",
    "* $H_0$: No changes in focus and alertness\n",
    "* $H_A$: Focus and alertness increased"
   ]
  },
  {
   "cell_type": "markdown",
   "id": "36a1e383",
   "metadata": {},
   "source": []
  },
  {
   "cell_type": "markdown",
   "id": "676e6a09",
   "metadata": {},
   "source": []
  },
  {
   "cell_type": "markdown",
   "id": "12244528",
   "metadata": {},
   "source": [
    "3. Interpreting p-values:\n",
    "- In a study investigating the effectiveness of a new teaching method, the calculated\n",
    "p-value is 0.03. What does this p-value indicate about the null hypothesis?"
   ]
  },
  {
   "cell_type": "markdown",
   "id": "726db958",
   "metadata": {},
   "source": [
    "##### If the significance level $\\alpha$ is 0.05 then we can reject null hypothesis since p is lower than alpha. \n",
    "##### In case the $\\alpha$ is 0.01 then we can accept the null hypothesis since p is higher than alpha."
   ]
  },
  {
   "cell_type": "markdown",
   "id": "0a14db95",
   "metadata": {},
   "source": [
    "4. Type I and Type II Errors:\n",
    "- Describe a scenario in which a Type I error could occur in hypothesis testing. How\n",
    "does it differ from a Type II error?"
   ]
  },
  {
   "cell_type": "markdown",
   "id": "f27c18ee",
   "metadata": {},
   "source": [
    "##### Type I error are also knows as False positive where the value is negative but the hypothesis test gives positive result. \n",
    "##### Example : a non diabetic person detected positive for diabetic test.\n",
    "##### Type II error are known as False negative where actual value is positive but hypothesis test gives negative result."
   ]
  },
  {
   "cell_type": "markdown",
   "id": "ca760d3d",
   "metadata": {},
   "source": [
    "5. Right-tailed Hypothesis Testing:\n",
    "- A manufacturer claims that their new light bulb lasts, on average, more than 1000\n",
    "hours. Conduct a right-tailed hypothesis test with a significance level of 0.05, given a\n",
    "sample mean of 1050 hours and a sample standard deviation of 50 hours."
   ]
  },
  {
   "cell_type": "markdown",
   "id": "1c1997e5",
   "metadata": {},
   "source": [
    "### Null hypothesis\n",
    "$H_0$ : $\\mu$ = 1050\n",
    "### Alternate hypothesis\n",
    "$H_A$ : $\\mu$ > 1000"
   ]
  },
  {
   "cell_type": "markdown",
   "id": "d36341eb",
   "metadata": {},
   "source": [
    "### Sample standard deviation\n",
    "s = 50\n",
    "### Level of significance\n",
    "$\\alpha$ = 0.05\n",
    "\n",
    "Sample mean = 1000"
   ]
  },
  {
   "cell_type": "markdown",
   "id": "73694460",
   "metadata": {},
   "source": [
    "z = (1050-1000)/50\n",
    "z"
   ]
  },
  {
   "cell_type": "code",
   "execution_count": 5,
   "id": "8214be37",
   "metadata": {},
   "outputs": [
    {
     "data": {
      "text/plain": [
       "0.15865525393145707"
      ]
     },
     "execution_count": 5,
     "metadata": {},
     "output_type": "execute_result"
    }
   ],
   "source": [
    "p_value = (1 - stats.norm.cdf(1.0))\n",
    "p_value"
   ]
  },
  {
   "cell_type": "code",
   "execution_count": null,
   "id": "839c9190",
   "metadata": {},
   "outputs": [],
   "source": [
    "# Since p_value is more than alpha so we can say that Null hypothesis is true"
   ]
  },
  {
   "cell_type": "markdown",
   "id": "e4fc8ce1",
   "metadata": {},
   "source": [
    "6. Two-Tailed Hypothesis Testing:\n",
    "- A researcher wants to determine if there is a difference in mean exam scores between\n",
    "two groups of students. Formulate the null and alternative hypotheses for this study as a\n",
    "two-tailed test."
   ]
  },
  {
   "cell_type": "markdown",
   "id": "cec68f3c",
   "metadata": {},
   "source": [
    "### Mean exam score of Group A = $\\mu_a$\n",
    "### Mean exam score of Group B = $\\mu_b$"
   ]
  },
  {
   "cell_type": "markdown",
   "id": "2e585079",
   "metadata": {},
   "source": [
    "### Null hypothesis :  $\\mu_a$ - $\\mu_b$ = 0\n",
    "### Alternate hypothesis :$\\mu_a$ - $\\mu_b$ $\\neq$ 0\n"
   ]
  },
  {
   "cell_type": "code",
   "execution_count": null,
   "id": "1283df4d",
   "metadata": {},
   "outputs": [],
   "source": []
  },
  {
   "cell_type": "markdown",
   "id": "83420bb0",
   "metadata": {},
   "source": [
    "7. One-sample t-test:\n",
    "- A manufacturer claims that the mean weight of their cereal boxes is 500 grams. A\n",
    "sample of 30 cereal boxes has a mean weight of 490 grams and a standard deviation of\n",
    "20 grams. Conduct a one-sample t-test to determine if there is evidence to support the\n",
    "manufacturer's claim at a significance level of 0.05."
   ]
  },
  {
   "cell_type": "code",
   "execution_count": 6,
   "id": "571ddbfa",
   "metadata": {},
   "outputs": [],
   "source": [
    "# Sample mean = 490 grams\n",
    "# Sample size = 30\n",
    "# Sample standard deviation = 20 grams"
   ]
  },
  {
   "cell_type": "markdown",
   "id": "c5c65d87",
   "metadata": {},
   "source": [
    "### Null hypothesis : Mean weight of cereal boxes $\\mu$ $\\neq$ 500\n",
    "### Alternate hypothesis : Mean weight of cereal boxes $\\mu$ = 500"
   ]
  },
  {
   "cell_type": "code",
   "execution_count": 7,
   "id": "30e0e002",
   "metadata": {},
   "outputs": [
    {
     "data": {
      "text/plain": [
       "-1.8257418583505538"
      ]
     },
     "execution_count": 7,
     "metadata": {},
     "output_type": "execute_result"
    }
   ],
   "source": [
    "T_stat = (490 - 500)/(30/np.sqrt(30))\n",
    "T_stat"
   ]
  },
  {
   "cell_type": "code",
   "execution_count": 10,
   "id": "86ef746b",
   "metadata": {},
   "outputs": [
    {
     "data": {
      "text/plain": [
       "0.07754707910240866"
      ]
     },
     "execution_count": 10,
     "metadata": {},
     "output_type": "execute_result"
    }
   ],
   "source": [
    "2*stats.t.cdf(-1.83, df = 29)"
   ]
  },
  {
   "cell_type": "code",
   "execution_count": null,
   "id": "569ba875",
   "metadata": {},
   "outputs": [],
   "source": [
    "# Since alpha is less than pvalue we accept the null hypothesis"
   ]
  },
  {
   "cell_type": "markdown",
   "id": "09b67d3a",
   "metadata": {},
   "source": [
    "8 . Two-sample t-test:\n",
    "- A researcher wants to compare the mean reaction times of two different groups of\n",
    "participants in a driving simulation study. Group A has a mean reaction time of 0.6\n",
    "seconds with a standard deviation of 0.1 seconds, while Group B has a mean reaction\n",
    "time of 0.55 seconds with a standard deviation of 0.08 seconds. Conduct a two-sample\n",
    "t-test to determine if there is a significant difference in mean reaction times between the\n",
    "groups at a significance level of 0.01."
   ]
  },
  {
   "cell_type": "markdown",
   "id": "744ea002",
   "metadata": {},
   "source": [
    "### Null hypothesis : Mean reaction time of group A $\\mu_A$ = Mean reaction time of group B $\\mu_B$ \n",
    "### Alternate hypothesis : Mean reaction time of group A $\\mu_A$ $\\neq$ Mean reaction time of group B $\\mu_B$ "
   ]
  },
  {
   "cell_type": "code",
   "execution_count": 14,
   "id": "b037f28c",
   "metadata": {},
   "outputs": [],
   "source": [
    "# Lets take the sample size of 30\n",
    "# uA = 0.6, S.D of A = 0.1, uB = 0.55, S.D of B = 0.08, Alpha = 0.01"
   ]
  },
  {
   "cell_type": "code",
   "execution_count": null,
   "id": "f84df04e",
   "metadata": {},
   "outputs": [],
   "source": [
    "# Calculate the t-statistic and p-value\n",
    "\n",
    "# t_statistic, p_value = stats.ttest_ind_from_stats(mean_A, std_dev_A, n_A, mean_B, std_dev_B, n_B)"
   ]
  },
  {
   "cell_type": "code",
   "execution_count": 11,
   "id": "abe0252e",
   "metadata": {},
   "outputs": [],
   "source": [
    "t_statistic, p_value = stats.ttest_ind_from_stats(0.6,0.1,30,0.55,0.08,30)"
   ]
  },
  {
   "cell_type": "code",
   "execution_count": 12,
   "id": "a8a1b96f",
   "metadata": {},
   "outputs": [
    {
     "data": {
      "text/plain": [
       "2.138497306920751"
      ]
     },
     "execution_count": 12,
     "metadata": {},
     "output_type": "execute_result"
    }
   ],
   "source": [
    "t_statistic"
   ]
  },
  {
   "cell_type": "code",
   "execution_count": 13,
   "id": "8b18c794",
   "metadata": {},
   "outputs": [
    {
     "data": {
      "text/plain": [
       "0.03669984926105974"
      ]
     },
     "execution_count": 13,
     "metadata": {},
     "output_type": "execute_result"
    }
   ],
   "source": [
    "p_value"
   ]
  },
  {
   "cell_type": "code",
   "execution_count": null,
   "id": "17a07bd4",
   "metadata": {},
   "outputs": [],
   "source": [
    "# Since p value is more than alpha so null hypothesis is accepted"
   ]
  },
  {
   "cell_type": "markdown",
   "id": "a360a349",
   "metadata": {},
   "source": [
    "9. Process Control Example:\n",
    "- A call center manager implements a new training program aimed at reducing call\n",
    "waiting times. The average waiting time before the training program was 4.5 minutes, and\n",
    "after the program, it is measured to be 4.0 minutes with a standard deviation of 0.8\n",
    "minutes. Conduct a hypothesis test to determine if there is evidence that the training\n",
    "program has reduced waiting times, using a significance level of 0.05."
   ]
  },
  {
   "cell_type": "markdown",
   "id": "9aacf0f8",
   "metadata": {},
   "source": [
    "### Null hypothesis : Mean waiting time before training $\\mu_bt$ = Mean waiting time after training $\\mu_at$ \n",
    "### Alternate hypothesis : Mean waiting time before training $\\mu_bt$ > Mean waiting time after training $\\mu_at$  "
   ]
  },
  {
   "cell_type": "code",
   "execution_count": null,
   "id": "e155fcb5",
   "metadata": {},
   "outputs": [],
   "source": [
    "# Lets take the sample size of 30\n",
    "# ubt = 4.5, S.D = 0.8, uat = 4, Alpha = 0.05"
   ]
  },
  {
   "cell_type": "code",
   "execution_count": 18,
   "id": "b392d126",
   "metadata": {},
   "outputs": [
    {
     "data": {
      "text/plain": [
       "0.2065591117977289"
      ]
     },
     "execution_count": 18,
     "metadata": {},
     "output_type": "execute_result"
    }
   ],
   "source": [
    "std_error = ((0.8 ** 2) / 30 + (0.8 ** 2) / 30) ** 0.5\n",
    "std_error"
   ]
  },
  {
   "cell_type": "code",
   "execution_count": 19,
   "id": "4c4d61ea",
   "metadata": {},
   "outputs": [
    {
     "data": {
      "text/plain": [
       "0.5"
      ]
     },
     "execution_count": 19,
     "metadata": {},
     "output_type": "execute_result"
    }
   ],
   "source": [
    "mean_difference = 4.5 - 4\n",
    "mean_difference"
   ]
  },
  {
   "cell_type": "code",
   "execution_count": 20,
   "id": "6df6a0e7",
   "metadata": {},
   "outputs": [
    {
     "data": {
      "text/plain": [
       "2.4206145913796355"
      ]
     },
     "execution_count": 20,
     "metadata": {},
     "output_type": "execute_result"
    }
   ],
   "source": [
    "t_stat = mean_difference/std_error\n",
    "t_stat"
   ]
  },
  {
   "cell_type": "code",
   "execution_count": 23,
   "id": "dd036488",
   "metadata": {},
   "outputs": [
    {
     "data": {
      "text/plain": [
       "0.021985085440789698"
      ]
     },
     "execution_count": 23,
     "metadata": {},
     "output_type": "execute_result"
    }
   ],
   "source": [
    "df = 30-1\n",
    "p_value = 2*(1-stats.t.cdf(t_stat,df))\n",
    "p_value\n",
    "             "
   ]
  },
  {
   "cell_type": "code",
   "execution_count": null,
   "id": "5e79fa88",
   "metadata": {},
   "outputs": [],
   "source": [
    "# Since p value is less than alpha so Alternate hypothesis is accepted"
   ]
  },
  {
   "cell_type": "markdown",
   "id": "6d429e37",
   "metadata": {},
   "source": [
    "10. Interpreting Results:\n",
    "- After conducting a hypothesis test, the calculated p-value is 0.02. What can you\n",
    "conclude about the null hypothesis based on this result, assuming a significance level of\n",
    "0.05?"
   ]
  },
  {
   "cell_type": "code",
   "execution_count": null,
   "id": "db9ff2d0",
   "metadata": {},
   "outputs": [],
   "source": [
    "# Since pvalue of 0.02 is less than significance level of 0.05 so alternate hypotheis is accepted"
   ]
  },
  {
   "cell_type": "code",
   "execution_count": null,
   "id": "6495171c",
   "metadata": {},
   "outputs": [],
   "source": []
  },
  {
   "cell_type": "code",
   "execution_count": null,
   "id": "abbe129c",
   "metadata": {},
   "outputs": [],
   "source": []
  },
  {
   "cell_type": "code",
   "execution_count": null,
   "id": "57492e14",
   "metadata": {},
   "outputs": [],
   "source": [
    "\n"
   ]
  }
 ],
 "metadata": {
  "kernelspec": {
   "display_name": "Python 3 (ipykernel)",
   "language": "python",
   "name": "python3"
  },
  "language_info": {
   "codemirror_mode": {
    "name": "ipython",
    "version": 3
   },
   "file_extension": ".py",
   "mimetype": "text/x-python",
   "name": "python",
   "nbconvert_exporter": "python",
   "pygments_lexer": "ipython3",
   "version": "3.11.5"
  }
 },
 "nbformat": 4,
 "nbformat_minor": 5
}
